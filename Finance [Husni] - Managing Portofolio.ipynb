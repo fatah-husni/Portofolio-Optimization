{
 "cells": [
  {
   "cell_type": "markdown",
   "id": "628426fe",
   "metadata": {},
   "source": [
    "# Portofolio Optimization"
   ]
  },
  {
   "cell_type": "raw",
   "id": "657a4252",
   "metadata": {},
   "source": [
    "Import Required Libraries"
   ]
  },
  {
   "cell_type": "code",
   "execution_count": 9,
   "id": "2464f586",
   "metadata": {},
   "outputs": [],
   "source": [
    "import yfinance as yf\n",
    "import pandas as pd\n",
    "import datetime\n",
    "from datetime import datetime, timedelta\n",
    "import numpy as np\n",
    "from scipy.optimize import minimize"
   ]
  },
  {
   "cell_type": "markdown",
   "id": "7c81c52a",
   "metadata": {},
   "source": [
    "Section 1: Define Tickers and Time Range"
   ]
  },
  {
   "cell_type": "code",
   "execution_count": 96,
   "id": "c3dd1d5e",
   "metadata": {},
   "outputs": [],
   "source": [
    "tickers = ['ASII', 'ESSA', 'BBCA', 'INCO', 'INDF','CTRA']\n",
    "end_date = datetime.today()\n",
    "start_date = end_date - timedelta(days = 5*365)\n",
    "\n",
    "#First, we define a list of tikers for the assets we want to include in the portfolio. In this example, we use several stocks representing various sector classess. \n",
    "##Then, we set the start and end dates for our analysis. \n",
    "###We use a five-year historical time range for our calculations"
   ]
  },
  {
   "cell_type": "markdown",
   "id": "afa131b9",
   "metadata": {},
   "source": [
    "Section 2: Download Adjusted Close Prices"
   ]
  },
  {
   "cell_type": "code",
   "execution_count": 97,
   "id": "4e0f6525",
   "metadata": {
    "scrolled": true
   },
   "outputs": [
    {
     "name": "stdout",
     "output_type": "stream",
     "text": [
      "[*********************100%%**********************]  1 of 1 completed\n",
      "[*********************100%%**********************]  1 of 1 completed\n",
      "[*********************100%%**********************]  1 of 1 completed\n",
      "[*********************100%%**********************]  1 of 1 completed\n",
      "[*********************100%%**********************]  1 of 1 completed\n",
      "[*********************100%%**********************]  1 of 1 completed\n"
     ]
    }
   ],
   "source": [
    "adj_close_df = pd.DataFrame()  #create an empty DataFrame to store the adjusted close prices of each asset. \n",
    "\n",
    "for ticker in tickers:\n",
    "    data = yf.download(ticker, start = start_date,end = end_date)\n",
    "    adj_close_df[ticker] = data['Adj Close']\n",
    "#We use the YFinance library to download the data from Yahoo Finance"
   ]
  },
  {
   "cell_type": "code",
   "execution_count": 106,
   "id": "a18d8f0e",
   "metadata": {
    "scrolled": true
   },
   "outputs": [
    {
     "name": "stdout",
     "output_type": "stream",
     "text": [
      "              ASII       ESSA       BBCA       INCO       INDF       CTRA\n",
      "Date                                                                     \n",
      "2018-08-27  0.5950  13.969443  44.322708  40.528717        NaN  19.113424\n",
      "2018-08-28  0.5000  13.908967  44.093136  40.360199        NaN  19.113424\n",
      "2018-08-29  0.5000  13.908967  44.322708  40.250664        NaN  19.225018\n",
      "2018-08-30  0.4500  13.831217  44.093136  40.023163        NaN  19.248930\n",
      "2018-08-31  0.4200  13.891690  43.581051  40.360199        NaN  18.993868\n",
      "...            ...        ...        ...        ...        ...        ...\n",
      "2023-08-17  0.0006  16.510000  59.090000  51.209999  34.020000  27.930000\n",
      "2023-08-18  0.0006  16.690001  59.049999  51.349998  34.006001  27.780001\n",
      "2023-08-21  0.0006  16.770000  58.970001  51.650002  34.242001  28.200001\n",
      "2023-08-22  0.0006  16.219999  58.639999  51.939999  34.108002  27.900000\n",
      "2023-08-23  0.0006  16.280001  59.259998  52.490002  34.896000  27.629999\n",
      "\n",
      "[1256 rows x 6 columns]\n"
     ]
    }
   ],
   "source": [
    "print(adj_close_df)"
   ]
  },
  {
   "cell_type": "markdown",
   "id": "c8d509c7",
   "metadata": {},
   "source": [
    "Section 3: Calculate Lognormal Returns"
   ]
  },
  {
   "cell_type": "code",
   "execution_count": 99,
   "id": "c4aa89ac",
   "metadata": {},
   "outputs": [],
   "source": [
    "#use lognormal returns for each tickers because it is a lot easier for calculate future returns\n",
    "\n",
    "log_returns = np.log(adj_close_df / adj_close_df.shift(1)) \n",
    "#one day price divided with the previous day price\n",
    "log_returns = log_returns.dropna() \n",
    "#drop any missing values"
   ]
  },
  {
   "cell_type": "markdown",
   "id": "f6fe1e3c",
   "metadata": {},
   "source": [
    "Section 4: Calculate Covariance Matrix"
   ]
  },
  {
   "cell_type": "code",
   "execution_count": 100,
   "id": "71016787",
   "metadata": {
    "scrolled": true
   },
   "outputs": [
    {
     "name": "stdout",
     "output_type": "stream",
     "text": [
      "          ASII      ESSA      BBCA      INCO      INDF      CTRA\n",
      "ASII  6.637530  0.028331  0.028713  0.024117  0.026431  0.009116\n",
      "ESSA  0.028331  0.073766  0.010256  0.006022  0.010485  0.011074\n",
      "BBCA  0.028713  0.010256  0.032249  0.016519  0.021079  0.033268\n",
      "INCO  0.024117  0.006022  0.016519  0.035000  0.030107  0.010921\n",
      "INDF  0.026431  0.010485  0.021079  0.030107  0.046702  0.014475\n",
      "CTRA  0.009116  0.011074  0.033268  0.010921  0.014475  0.163006\n"
     ]
    }
   ],
   "source": [
    "#The covariance matrix is the most importance of all of here. This is how we measure the total risk of portfolio\n",
    "##Each of these asset have a certain correlation and covariance with each other asset in portfolio\n",
    "###so we made these matrix in order to standard deviation or risk in the most acknowledge possible\n",
    "\n",
    "cov_matrix = log_returns.cov()*252 \n",
    "#we multiply with 252 because we want to see daily return but with the annualized log returns\n",
    "\n",
    "print(cov_matrix)"
   ]
  },
  {
   "cell_type": "markdown",
   "id": "e6106e18",
   "metadata": {},
   "source": [
    "Section 5: Define Portfolio Performance Matrix"
   ]
  },
  {
   "cell_type": "raw",
   "id": "97d2cd41",
   "metadata": {},
   "source": [
    "5.1 Calculate the portfolio standard deviation"
   ]
  },
  {
   "cell_type": "code",
   "execution_count": 101,
   "id": "fab69d23",
   "metadata": {},
   "outputs": [],
   "source": [
    "#this line of code calculates the portfolio variabce, which is a measure of the risk associated with a portfolio of assets. \n",
    "##It represents the combines volatility of the assets in the portfolio, taking into account their individual volatilities and correlations with each other\n",
    "\n",
    "def standard_deviation(weights, cov_matrix):\n",
    "    variance = weights.T @ cov_matrix @ weights\n",
    "    return np.sqrt(variance)\n",
    "    \n",
    "    #standard deviation is a square root of it, right?\n",
    "\n"
   ]
  },
  {
   "cell_type": "markdown",
   "id": "854953f2",
   "metadata": {},
   "source": [
    "5.2 Calculate the expected return"
   ]
  },
  {
   "cell_type": "code",
   "execution_count": 102,
   "id": "8bf03556",
   "metadata": {},
   "outputs": [],
   "source": [
    "# Key assumption: Expected return are based on historical returns\n",
    "## average of past return\n",
    "#### for CFA holders, they might able to see the alpha (expected return). \n",
    "##### While for us, this might the best option\n",
    "\n",
    "def expected_return(weights, log_returns):\n",
    "    return np.sum(log_returns.mean(*weights)*252)\n"
   ]
  },
  {
   "cell_type": "markdown",
   "id": "a53fd072",
   "metadata": {},
   "source": [
    "5.3 Calculate Sharpe Ratio and the function to minimze (sharpe ratio)"
   ]
  },
  {
   "cell_type": "code",
   "execution_count": 129,
   "id": "97e7e7c9",
   "metadata": {},
   "outputs": [],
   "source": [
    "#The key formula to measure Sharpe Ratio is by:\n",
    "#Sharpe Ratio = (Portfolio Return - Risk Free Rate)/St.Dev\n",
    "\n",
    "def sharpe_ratio(weights, log_returns, cov_matrix, risk_free_rate):\n",
    "    return (expected_return(weights, log_returns) - risk_free_rate) / standard_deviation(Weights, cov_matrix)"
   ]
  },
  {
   "cell_type": "markdown",
   "id": "116e0caa",
   "metadata": {},
   "source": [
    "Section 6: Portfolio Optimization"
   ]
  },
  {
   "cell_type": "markdown",
   "id": "a02143a0",
   "metadata": {},
   "source": [
    "6.1 Set the risk-free rate"
   ]
  },
  {
   "cell_type": "code",
   "execution_count": 104,
   "id": "c44791da",
   "metadata": {},
   "outputs": [],
   "source": [
    "#We determine risk rate by used Bank Indonesia 7Day Revere-Repo (BI7DR)\n",
    "##In which, per 24 August 2023, BI-7 Day RR set as 5,75%\n",
    "###Therefore, the number itself .0575\n",
    "\n",
    "# \"https://www.bi.go.id/id/statistik/indikator/bi-7day-rr.aspx\"\n",
    "    \n",
    "risk_free_rate = .0575"
   ]
  },
  {
   "cell_type": "markdown",
   "id": "3c81951d",
   "metadata": {},
   "source": [
    "6.1 Define the function to minimize (negative sharpe ratio)"
   ]
  },
  {
   "cell_type": "code",
   "execution_count": null,
   "id": "7889d996",
   "metadata": {},
   "outputs": [],
   "source": [
    "#In the case of the scipy.optimize.minimze() function, there is no direct method to find the maximum value of a function\n",
    "def neg_sharpe_ratio(weights, log_returns, cov_matrix, risk_free_rate):\n",
    "    return -sharpe_ratio(weights, log_returns, cov_matrix, risk_free_rate)"
   ]
  },
  {
   "cell_type": "markdown",
   "id": "a71b8aed",
   "metadata": {},
   "source": [
    "6.2 Set the constraints and bounds"
   ]
  },
  {
   "cell_type": "code",
   "execution_count": 123,
   "id": "f73f7f09",
   "metadata": {},
   "outputs": [],
   "source": [
    "#constrains are conditions that must be met by the solutions during the optimization process.\n",
    "##In this case, the constraint is that the sum of all portfolio weights must be equal to 1\n",
    "###The constraint variable is a dictionary with two keys: 'type' and 'fun'\n",
    "\n",
    "####'type' is set to 'eq' which means 'equally constraint'\n",
    "#### and 'fun' is assigned the function check_sum, which checks if the sum of the portfolio weights equals 1\n",
    "\n",
    "# Bounds are the limits placed on the variables during the optimization process\n",
    "## In this case, the variables are the portfolio weights, and each weight should be between 0 and 1\n",
    "\n",
    "constraints = {'type': 'eq', 'fun': lambda weights: np.sum(weights) - 1} \n",
    "#we are basically make to measure that the weights in the portfolio sum to 1\n",
    "\n",
    "bounds = [(0, 0.5) for _ in range(len(tickers))] \n",
    "# Pretty important. 0 is the lower bounds. It means we cannot go short in these asset or sell asset that we do not know\n",
    "# 0.5 upper bounds, we cant have more than any 50 percent of our portfolio in any of these single securities\n",
    "##sometimes we see in NASDAQ for example, or in NIKKEI, that some stocks are hike and outperformed else, so the portfolio optimization became innacurate kinda 'huh i should go for 80 percent increases' which is not true\n"
   ]
  },
  {
   "cell_type": "markdown",
   "id": "516922be",
   "metadata": {},
   "source": [
    "6.3 Set the initial weights"
   ]
  },
  {
   "cell_type": "code",
   "execution_count": 124,
   "id": "e8b15f6d",
   "metadata": {},
   "outputs": [
    {
     "name": "stdout",
     "output_type": "stream",
     "text": [
      "[0.16666667 0.16666667 0.16666667 0.16666667 0.16666667 0.16666667]\n"
     ]
    }
   ],
   "source": [
    "initial_weights = np.array([1/len(tickers)]*len(tickers))\n",
    "\n",
    "print(initial_weights)"
   ]
  },
  {
   "cell_type": "markdown",
   "id": "e1bd3529",
   "metadata": {},
   "source": [
    "6.4 Optimize the weights to maximize Sharpe Ratio, then geh the optimal weights"
   ]
  },
  {
   "cell_type": "code",
   "execution_count": 130,
   "id": "97a1a909",
   "metadata": {},
   "outputs": [
    {
     "ename": "TypeError",
     "evalue": "NDFrame._add_numeric_operations.<locals>.mean() takes from 1 to 5 positional arguments but 7 were given",
     "output_type": "error",
     "traceback": [
      "\u001b[1;31m---------------------------------------------------------------------------\u001b[0m",
      "\u001b[1;31mTypeError\u001b[0m                                 Traceback (most recent call last)",
      "Cell \u001b[1;32mIn[130], line 1\u001b[0m\n\u001b[1;32m----> 1\u001b[0m optimized_results \u001b[38;5;241m=\u001b[39m \u001b[43mminimize\u001b[49m\u001b[43m(\u001b[49m\u001b[43mneg_sharpe_ratio\u001b[49m\u001b[43m,\u001b[49m\u001b[43m \u001b[49m\u001b[43minitial_weights\u001b[49m\u001b[43m,\u001b[49m\u001b[43m \u001b[49m\u001b[43margs\u001b[49m\u001b[38;5;241;43m=\u001b[39;49m\u001b[43m(\u001b[49m\u001b[43mlog_returns\u001b[49m\u001b[43m,\u001b[49m\u001b[43m \u001b[49m\u001b[43mcov_matrix\u001b[49m\u001b[43m,\u001b[49m\u001b[43m \u001b[49m\u001b[43mrisk_free_rate\u001b[49m\u001b[43m)\u001b[49m\u001b[43m,\u001b[49m\u001b[43m \u001b[49m\u001b[43mmethod\u001b[49m\u001b[38;5;241;43m=\u001b[39;49m\u001b[38;5;124;43m'\u001b[39;49m\u001b[38;5;124;43mSLSQP\u001b[39;49m\u001b[38;5;124;43m'\u001b[39;49m\u001b[43m,\u001b[49m\u001b[43m \u001b[49m\u001b[43mconstraints\u001b[49m\u001b[38;5;241;43m=\u001b[39;49m\u001b[43mconstraints\u001b[49m\u001b[43m,\u001b[49m\u001b[43m \u001b[49m\u001b[43mbounds\u001b[49m\u001b[38;5;241;43m=\u001b[39;49m\u001b[43mbounds\u001b[49m\u001b[43m)\u001b[49m\n\u001b[0;32m      2\u001b[0m \u001b[38;5;66;03m#'SLSQP' stands for Sequential Least Squares Quadratic Programming, which is a numerical optimization techniques suitable for solving nonlinear optimization problem with constraints\u001b[39;00m\n\u001b[0;32m      5\u001b[0m optimal_weights \u001b[38;5;241m=\u001b[39m optimized_results\u001b[38;5;241m.\u001b[39mx\n",
      "File \u001b[1;32m~\\AppData\\Local\\anaconda3\\Lib\\site-packages\\scipy\\optimize\\_minimize.py:705\u001b[0m, in \u001b[0;36mminimize\u001b[1;34m(fun, x0, args, method, jac, hess, hessp, bounds, constraints, tol, callback, options)\u001b[0m\n\u001b[0;32m    702\u001b[0m     res \u001b[38;5;241m=\u001b[39m _minimize_cobyla(fun, x0, args, constraints, callback\u001b[38;5;241m=\u001b[39mcallback,\n\u001b[0;32m    703\u001b[0m                             \u001b[38;5;241m*\u001b[39m\u001b[38;5;241m*\u001b[39moptions)\n\u001b[0;32m    704\u001b[0m \u001b[38;5;28;01melif\u001b[39;00m meth \u001b[38;5;241m==\u001b[39m \u001b[38;5;124m'\u001b[39m\u001b[38;5;124mslsqp\u001b[39m\u001b[38;5;124m'\u001b[39m:\n\u001b[1;32m--> 705\u001b[0m     res \u001b[38;5;241m=\u001b[39m \u001b[43m_minimize_slsqp\u001b[49m\u001b[43m(\u001b[49m\u001b[43mfun\u001b[49m\u001b[43m,\u001b[49m\u001b[43m \u001b[49m\u001b[43mx0\u001b[49m\u001b[43m,\u001b[49m\u001b[43m \u001b[49m\u001b[43margs\u001b[49m\u001b[43m,\u001b[49m\u001b[43m \u001b[49m\u001b[43mjac\u001b[49m\u001b[43m,\u001b[49m\u001b[43m \u001b[49m\u001b[43mbounds\u001b[49m\u001b[43m,\u001b[49m\n\u001b[0;32m    706\u001b[0m \u001b[43m                          \u001b[49m\u001b[43mconstraints\u001b[49m\u001b[43m,\u001b[49m\u001b[43m \u001b[49m\u001b[43mcallback\u001b[49m\u001b[38;5;241;43m=\u001b[39;49m\u001b[43mcallback\u001b[49m\u001b[43m,\u001b[49m\u001b[43m \u001b[49m\u001b[38;5;241;43m*\u001b[39;49m\u001b[38;5;241;43m*\u001b[39;49m\u001b[43moptions\u001b[49m\u001b[43m)\u001b[49m\n\u001b[0;32m    707\u001b[0m \u001b[38;5;28;01melif\u001b[39;00m meth \u001b[38;5;241m==\u001b[39m \u001b[38;5;124m'\u001b[39m\u001b[38;5;124mtrust-constr\u001b[39m\u001b[38;5;124m'\u001b[39m:\n\u001b[0;32m    708\u001b[0m     res \u001b[38;5;241m=\u001b[39m _minimize_trustregion_constr(fun, x0, args, jac, hess, hessp,\n\u001b[0;32m    709\u001b[0m                                        bounds, constraints,\n\u001b[0;32m    710\u001b[0m                                        callback\u001b[38;5;241m=\u001b[39mcallback, \u001b[38;5;241m*\u001b[39m\u001b[38;5;241m*\u001b[39moptions)\n",
      "File \u001b[1;32m~\\AppData\\Local\\anaconda3\\Lib\\site-packages\\scipy\\optimize\\_slsqp_py.py:374\u001b[0m, in \u001b[0;36m_minimize_slsqp\u001b[1;34m(func, x0, args, jac, bounds, constraints, maxiter, ftol, iprint, disp, eps, callback, finite_diff_rel_step, **unknown_options)\u001b[0m\n\u001b[0;32m    371\u001b[0m     xu[infbnd[:, \u001b[38;5;241m1\u001b[39m]] \u001b[38;5;241m=\u001b[39m np\u001b[38;5;241m.\u001b[39mnan\n\u001b[0;32m    373\u001b[0m \u001b[38;5;66;03m# ScalarFunction provides function and gradient evaluation\u001b[39;00m\n\u001b[1;32m--> 374\u001b[0m sf \u001b[38;5;241m=\u001b[39m \u001b[43m_prepare_scalar_function\u001b[49m\u001b[43m(\u001b[49m\u001b[43mfunc\u001b[49m\u001b[43m,\u001b[49m\u001b[43m \u001b[49m\u001b[43mx\u001b[49m\u001b[43m,\u001b[49m\u001b[43m \u001b[49m\u001b[43mjac\u001b[49m\u001b[38;5;241;43m=\u001b[39;49m\u001b[43mjac\u001b[49m\u001b[43m,\u001b[49m\u001b[43m \u001b[49m\u001b[43margs\u001b[49m\u001b[38;5;241;43m=\u001b[39;49m\u001b[43margs\u001b[49m\u001b[43m,\u001b[49m\u001b[43m \u001b[49m\u001b[43mepsilon\u001b[49m\u001b[38;5;241;43m=\u001b[39;49m\u001b[43meps\u001b[49m\u001b[43m,\u001b[49m\n\u001b[0;32m    375\u001b[0m \u001b[43m                              \u001b[49m\u001b[43mfinite_diff_rel_step\u001b[49m\u001b[38;5;241;43m=\u001b[39;49m\u001b[43mfinite_diff_rel_step\u001b[49m\u001b[43m,\u001b[49m\n\u001b[0;32m    376\u001b[0m \u001b[43m                              \u001b[49m\u001b[43mbounds\u001b[49m\u001b[38;5;241;43m=\u001b[39;49m\u001b[43mnew_bounds\u001b[49m\u001b[43m)\u001b[49m\n\u001b[0;32m    377\u001b[0m \u001b[38;5;66;03m# gh11403 SLSQP sometimes exceeds bounds by 1 or 2 ULP, make sure this\u001b[39;00m\n\u001b[0;32m    378\u001b[0m \u001b[38;5;66;03m# doesn't get sent to the func/grad evaluator.\u001b[39;00m\n\u001b[0;32m    379\u001b[0m wrapped_fun \u001b[38;5;241m=\u001b[39m _clip_x_for_func(sf\u001b[38;5;241m.\u001b[39mfun, new_bounds)\n",
      "File \u001b[1;32m~\\AppData\\Local\\anaconda3\\Lib\\site-packages\\scipy\\optimize\\_optimize.py:332\u001b[0m, in \u001b[0;36m_prepare_scalar_function\u001b[1;34m(fun, x0, jac, args, bounds, epsilon, finite_diff_rel_step, hess)\u001b[0m\n\u001b[0;32m    328\u001b[0m     bounds \u001b[38;5;241m=\u001b[39m (\u001b[38;5;241m-\u001b[39mnp\u001b[38;5;241m.\u001b[39minf, np\u001b[38;5;241m.\u001b[39minf)\n\u001b[0;32m    330\u001b[0m \u001b[38;5;66;03m# ScalarFunction caches. Reuse of fun(x) during grad\u001b[39;00m\n\u001b[0;32m    331\u001b[0m \u001b[38;5;66;03m# calculation reduces overall function evaluations.\u001b[39;00m\n\u001b[1;32m--> 332\u001b[0m sf \u001b[38;5;241m=\u001b[39m \u001b[43mScalarFunction\u001b[49m\u001b[43m(\u001b[49m\u001b[43mfun\u001b[49m\u001b[43m,\u001b[49m\u001b[43m \u001b[49m\u001b[43mx0\u001b[49m\u001b[43m,\u001b[49m\u001b[43m \u001b[49m\u001b[43margs\u001b[49m\u001b[43m,\u001b[49m\u001b[43m \u001b[49m\u001b[43mgrad\u001b[49m\u001b[43m,\u001b[49m\u001b[43m \u001b[49m\u001b[43mhess\u001b[49m\u001b[43m,\u001b[49m\n\u001b[0;32m    333\u001b[0m \u001b[43m                    \u001b[49m\u001b[43mfinite_diff_rel_step\u001b[49m\u001b[43m,\u001b[49m\u001b[43m \u001b[49m\u001b[43mbounds\u001b[49m\u001b[43m,\u001b[49m\u001b[43m \u001b[49m\u001b[43mepsilon\u001b[49m\u001b[38;5;241;43m=\u001b[39;49m\u001b[43mepsilon\u001b[49m\u001b[43m)\u001b[49m\n\u001b[0;32m    335\u001b[0m \u001b[38;5;28;01mreturn\u001b[39;00m sf\n",
      "File \u001b[1;32m~\\AppData\\Local\\anaconda3\\Lib\\site-packages\\scipy\\optimize\\_differentiable_functions.py:158\u001b[0m, in \u001b[0;36mScalarFunction.__init__\u001b[1;34m(self, fun, x0, args, grad, hess, finite_diff_rel_step, finite_diff_bounds, epsilon)\u001b[0m\n\u001b[0;32m    155\u001b[0m     \u001b[38;5;28mself\u001b[39m\u001b[38;5;241m.\u001b[39mf \u001b[38;5;241m=\u001b[39m fun_wrapped(\u001b[38;5;28mself\u001b[39m\u001b[38;5;241m.\u001b[39mx)\n\u001b[0;32m    157\u001b[0m \u001b[38;5;28mself\u001b[39m\u001b[38;5;241m.\u001b[39m_update_fun_impl \u001b[38;5;241m=\u001b[39m update_fun\n\u001b[1;32m--> 158\u001b[0m \u001b[38;5;28;43mself\u001b[39;49m\u001b[38;5;241;43m.\u001b[39;49m\u001b[43m_update_fun\u001b[49m\u001b[43m(\u001b[49m\u001b[43m)\u001b[49m\n\u001b[0;32m    160\u001b[0m \u001b[38;5;66;03m# Gradient evaluation\u001b[39;00m\n\u001b[0;32m    161\u001b[0m \u001b[38;5;28;01mif\u001b[39;00m \u001b[38;5;28mcallable\u001b[39m(grad):\n",
      "File \u001b[1;32m~\\AppData\\Local\\anaconda3\\Lib\\site-packages\\scipy\\optimize\\_differentiable_functions.py:251\u001b[0m, in \u001b[0;36mScalarFunction._update_fun\u001b[1;34m(self)\u001b[0m\n\u001b[0;32m    249\u001b[0m \u001b[38;5;28;01mdef\u001b[39;00m \u001b[38;5;21m_update_fun\u001b[39m(\u001b[38;5;28mself\u001b[39m):\n\u001b[0;32m    250\u001b[0m     \u001b[38;5;28;01mif\u001b[39;00m \u001b[38;5;129;01mnot\u001b[39;00m \u001b[38;5;28mself\u001b[39m\u001b[38;5;241m.\u001b[39mf_updated:\n\u001b[1;32m--> 251\u001b[0m         \u001b[38;5;28;43mself\u001b[39;49m\u001b[38;5;241;43m.\u001b[39;49m\u001b[43m_update_fun_impl\u001b[49m\u001b[43m(\u001b[49m\u001b[43m)\u001b[49m\n\u001b[0;32m    252\u001b[0m         \u001b[38;5;28mself\u001b[39m\u001b[38;5;241m.\u001b[39mf_updated \u001b[38;5;241m=\u001b[39m \u001b[38;5;28;01mTrue\u001b[39;00m\n",
      "File \u001b[1;32m~\\AppData\\Local\\anaconda3\\Lib\\site-packages\\scipy\\optimize\\_differentiable_functions.py:155\u001b[0m, in \u001b[0;36mScalarFunction.__init__.<locals>.update_fun\u001b[1;34m()\u001b[0m\n\u001b[0;32m    154\u001b[0m \u001b[38;5;28;01mdef\u001b[39;00m \u001b[38;5;21mupdate_fun\u001b[39m():\n\u001b[1;32m--> 155\u001b[0m     \u001b[38;5;28mself\u001b[39m\u001b[38;5;241m.\u001b[39mf \u001b[38;5;241m=\u001b[39m \u001b[43mfun_wrapped\u001b[49m\u001b[43m(\u001b[49m\u001b[38;5;28;43mself\u001b[39;49m\u001b[38;5;241;43m.\u001b[39;49m\u001b[43mx\u001b[49m\u001b[43m)\u001b[49m\n",
      "File \u001b[1;32m~\\AppData\\Local\\anaconda3\\Lib\\site-packages\\scipy\\optimize\\_differentiable_functions.py:137\u001b[0m, in \u001b[0;36mScalarFunction.__init__.<locals>.fun_wrapped\u001b[1;34m(x)\u001b[0m\n\u001b[0;32m    133\u001b[0m \u001b[38;5;28mself\u001b[39m\u001b[38;5;241m.\u001b[39mnfev \u001b[38;5;241m+\u001b[39m\u001b[38;5;241m=\u001b[39m \u001b[38;5;241m1\u001b[39m\n\u001b[0;32m    134\u001b[0m \u001b[38;5;66;03m# Send a copy because the user may overwrite it.\u001b[39;00m\n\u001b[0;32m    135\u001b[0m \u001b[38;5;66;03m# Overwriting results in undefined behaviour because\u001b[39;00m\n\u001b[0;32m    136\u001b[0m \u001b[38;5;66;03m# fun(self.x) will change self.x, with the two no longer linked.\u001b[39;00m\n\u001b[1;32m--> 137\u001b[0m fx \u001b[38;5;241m=\u001b[39m \u001b[43mfun\u001b[49m\u001b[43m(\u001b[49m\u001b[43mnp\u001b[49m\u001b[38;5;241;43m.\u001b[39;49m\u001b[43mcopy\u001b[49m\u001b[43m(\u001b[49m\u001b[43mx\u001b[49m\u001b[43m)\u001b[49m\u001b[43m,\u001b[49m\u001b[43m \u001b[49m\u001b[38;5;241;43m*\u001b[39;49m\u001b[43margs\u001b[49m\u001b[43m)\u001b[49m\n\u001b[0;32m    138\u001b[0m \u001b[38;5;66;03m# Make sure the function returns a true scalar\u001b[39;00m\n\u001b[0;32m    139\u001b[0m \u001b[38;5;28;01mif\u001b[39;00m \u001b[38;5;129;01mnot\u001b[39;00m np\u001b[38;5;241m.\u001b[39misscalar(fx):\n",
      "Cell \u001b[1;32mIn[129], line 9\u001b[0m, in \u001b[0;36mneg_sharpe_ratio\u001b[1;34m(weights, log_returns, cov_matrix, risk_free_rate)\u001b[0m\n\u001b[0;32m      8\u001b[0m \u001b[38;5;28;01mdef\u001b[39;00m \u001b[38;5;21mneg_sharpe_ratio\u001b[39m(weights, log_returns, cov_matrix, risk_free_rate):\n\u001b[1;32m----> 9\u001b[0m     \u001b[38;5;28;01mreturn\u001b[39;00m \u001b[38;5;241m-\u001b[39m\u001b[43msharpe_ratio\u001b[49m\u001b[43m(\u001b[49m\u001b[43mweights\u001b[49m\u001b[43m,\u001b[49m\u001b[43m \u001b[49m\u001b[43mlog_returns\u001b[49m\u001b[43m,\u001b[49m\u001b[43m \u001b[49m\u001b[43mcov_matrix\u001b[49m\u001b[43m,\u001b[49m\u001b[43m \u001b[49m\u001b[43mrisk_free_rate\u001b[49m\u001b[43m)\u001b[49m\n",
      "Cell \u001b[1;32mIn[129], line 5\u001b[0m, in \u001b[0;36msharpe_ratio\u001b[1;34m(weights, log_returns, cov_matrix, risk_free_rate)\u001b[0m\n\u001b[0;32m      4\u001b[0m \u001b[38;5;28;01mdef\u001b[39;00m \u001b[38;5;21msharpe_ratio\u001b[39m(weights, log_returns, cov_matrix, risk_free_rate):\n\u001b[1;32m----> 5\u001b[0m     \u001b[38;5;28;01mreturn\u001b[39;00m (\u001b[43mexpected_return\u001b[49m\u001b[43m(\u001b[49m\u001b[43mweights\u001b[49m\u001b[43m,\u001b[49m\u001b[43m \u001b[49m\u001b[43mlog_returns\u001b[49m\u001b[43m)\u001b[49m \u001b[38;5;241m-\u001b[39m risk_free_rate) \u001b[38;5;241m/\u001b[39m standard_deviation(Weights, cov_matrix)\n",
      "Cell \u001b[1;32mIn[102], line 7\u001b[0m, in \u001b[0;36mexpected_return\u001b[1;34m(weights, log_returns)\u001b[0m\n\u001b[0;32m      6\u001b[0m \u001b[38;5;28;01mdef\u001b[39;00m \u001b[38;5;21mexpected_return\u001b[39m(weights, log_returns):\n\u001b[1;32m----> 7\u001b[0m     \u001b[38;5;28;01mreturn\u001b[39;00m np\u001b[38;5;241m.\u001b[39msum(\u001b[43mlog_returns\u001b[49m\u001b[38;5;241;43m.\u001b[39;49m\u001b[43mmean\u001b[49m\u001b[43m(\u001b[49m\u001b[38;5;241;43m*\u001b[39;49m\u001b[43mweights\u001b[49m\u001b[43m)\u001b[49m\u001b[38;5;241m*\u001b[39m\u001b[38;5;241m252\u001b[39m)\n",
      "\u001b[1;31mTypeError\u001b[0m: NDFrame._add_numeric_operations.<locals>.mean() takes from 1 to 5 positional arguments but 7 were given"
     ]
    }
   ],
   "source": [
    "optimized_results = minimize(neg_sharpe_ratio, initial_weights, args=(log_returns, cov_matrix, risk_free_rate), method='SLSQP', constraints=constraints, bounds=bounds)\n",
    "#'SLSQP' stands for Sequential Least Squares Quadratic Programming, which is a numerical optimization techniques suitable for solving nonlinear optimization problem with constraints\n",
    "\n",
    "\n",
    "optimal_weights = optimized_results.x"
   ]
  },
  {
   "cell_type": "markdown",
   "id": "98a0af13",
   "metadata": {},
   "source": [
    "Section 7: Analyze the Optimal Portfolio"
   ]
  },
  {
   "cell_type": "markdown",
   "id": "a0356130",
   "metadata": {},
   "source": [
    "7.1 Display analytics of the optimal portfolio"
   ]
  },
  {
   "cell_type": "code",
   "execution_count": 127,
   "id": "9a47ea16",
   "metadata": {},
   "outputs": [
    {
     "name": "stdout",
     "output_type": "stream",
     "text": [
      "Optimal Weights:\n"
     ]
    },
    {
     "ename": "NameError",
     "evalue": "name 'optimal_weights' is not defined",
     "output_type": "error",
     "traceback": [
      "\u001b[1;31m---------------------------------------------------------------------------\u001b[0m",
      "\u001b[1;31mNameError\u001b[0m                                 Traceback (most recent call last)",
      "Cell \u001b[1;32mIn[127], line 2\u001b[0m\n\u001b[0;32m      1\u001b[0m \u001b[38;5;28mprint\u001b[39m(\u001b[38;5;124m\"\u001b[39m\u001b[38;5;124mOptimal Weights:\u001b[39m\u001b[38;5;124m\"\u001b[39m)\n\u001b[1;32m----> 2\u001b[0m \u001b[38;5;28;01mfor\u001b[39;00m ticker, weight \u001b[38;5;129;01min\u001b[39;00m \u001b[38;5;28mzip\u001b[39m(tickers, \u001b[43moptimal_weights\u001b[49m):\n\u001b[0;32m      3\u001b[0m     \u001b[38;5;28mprint\u001b[39m(\u001b[38;5;124mf\u001b[39m\u001b[38;5;124m\"\u001b[39m\u001b[38;5;132;01m{\u001b[39;00mticker\u001b[38;5;132;01m}\u001b[39;00m\u001b[38;5;124m: \u001b[39m\u001b[38;5;132;01m{\u001b[39;00mweight\u001b[38;5;132;01m:\u001b[39;00m\u001b[38;5;124m.4f\u001b[39m\u001b[38;5;132;01m}\u001b[39;00m\u001b[38;5;124m\"\u001b[39m)\n\u001b[0;32m      5\u001b[0m optimal_portfolio_return \u001b[38;5;241m=\u001b[39m expected_return(optimal_weights, log_returns)\n",
      "\u001b[1;31mNameError\u001b[0m: name 'optimal_weights' is not defined"
     ]
    }
   ],
   "source": [
    "print(\"Optimal Weights:\")\n",
    "for ticker, weight in zip(tickers, optimal_weights):\n",
    "    print(f\"{ticker}: {weight:.4f}\")\n",
    "\n",
    "optimal_portfolio_return = expected_return(optimal_weights, log_returns)\n",
    "optimal_portfolio_volatility = standard_deviation(optimal_weights, cov_matrix)\n",
    "optimal_sharpe_ratio = sharpe_ratio(optimal_weights, log_returns, cov_matrix, risk_free_rate)\n",
    "\n",
    "print(f\"Expected Annual Return: {optimal_portfolio_return:.4f}\")\n",
    "print(f\"Expected Volatility: {optimal_portfolio_volatility:.4f}\")\n",
    "print(f\"Sharpe Ratio: {optimal_sharpe_ratio:.4f}\")"
   ]
  },
  {
   "cell_type": "markdown",
   "id": "a9f4acb0",
   "metadata": {},
   "source": [
    "7.2 Display the final portfolio in a plot"
   ]
  },
  {
   "cell_type": "code",
   "execution_count": 128,
   "id": "aed5bca6",
   "metadata": {},
   "outputs": [
    {
     "ename": "NameError",
     "evalue": "name 'optimal_weights' is not defined",
     "output_type": "error",
     "traceback": [
      "\u001b[1;31m---------------------------------------------------------------------------\u001b[0m",
      "\u001b[1;31mNameError\u001b[0m                                 Traceback (most recent call last)",
      "Cell \u001b[1;32mIn[128], line 4\u001b[0m\n\u001b[0;32m      1\u001b[0m \u001b[38;5;28;01mimport\u001b[39;00m \u001b[38;5;21;01mmatplotlib\u001b[39;00m\u001b[38;5;21;01m.\u001b[39;00m\u001b[38;5;21;01mpyplot\u001b[39;00m \u001b[38;5;28;01mas\u001b[39;00m \u001b[38;5;21;01mplt\u001b[39;00m\n\u001b[0;32m      3\u001b[0m plt\u001b[38;5;241m.\u001b[39mfigure(figsize\u001b[38;5;241m=\u001b[39m(\u001b[38;5;241m10\u001b[39m, \u001b[38;5;241m6\u001b[39m))\n\u001b[1;32m----> 4\u001b[0m plt\u001b[38;5;241m.\u001b[39mbar(tickers, \u001b[43moptimal_weights\u001b[49m)\n\u001b[0;32m      6\u001b[0m plt\u001b[38;5;241m.\u001b[39mxlabel(\u001b[38;5;124m'\u001b[39m\u001b[38;5;124mAssets\u001b[39m\u001b[38;5;124m'\u001b[39m)\n\u001b[0;32m      7\u001b[0m plt\u001b[38;5;241m.\u001b[39mylabel(\u001b[38;5;124m'\u001b[39m\u001b[38;5;124mOptimal Weights\u001b[39m\u001b[38;5;124m'\u001b[39m)\n",
      "\u001b[1;31mNameError\u001b[0m: name 'optimal_weights' is not defined"
     ]
    },
    {
     "data": {
      "text/plain": [
       "<Figure size 1000x600 with 0 Axes>"
      ]
     },
     "metadata": {},
     "output_type": "display_data"
    }
   ],
   "source": [
    "import matplotlib.pyplot as plt\n",
    "\n",
    "plt.figure(figsize=(10, 6))\n",
    "plt.bar(tickers, optimal_weights)\n",
    "\n",
    "plt.xlabel('Assets')\n",
    "plt.ylabel('Optimal Weights')\n",
    "plt.title('Optimal Portfolio Weights')\n",
    "\n",
    "plt.show()"
   ]
  }
 ],
 "metadata": {
  "kernelspec": {
   "display_name": "Python 3 (ipykernel)",
   "language": "python",
   "name": "python3"
  },
  "language_info": {
   "codemirror_mode": {
    "name": "ipython",
    "version": 3
   },
   "file_extension": ".py",
   "mimetype": "text/x-python",
   "name": "python",
   "nbconvert_exporter": "python",
   "pygments_lexer": "ipython3",
   "version": "3.11.4"
  }
 },
 "nbformat": 4,
 "nbformat_minor": 5
}
